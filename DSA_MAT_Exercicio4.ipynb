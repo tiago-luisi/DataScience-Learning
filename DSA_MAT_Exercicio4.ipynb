{
  "cells": [
    {
      "cell_type": "markdown",
      "metadata": {
        "id": "view-in-github",
        "colab_type": "text"
      },
      "source": [
        "<a href=\"https://colab.research.google.com/github/tiago-luisi/Mathematics-Statistics-DS-AI/blob/main/DSA_MAT_Exercicio4.ipynb\" target=\"_parent\"><img src=\"https://colab.research.google.com/assets/colab-badge.svg\" alt=\"Open In Colab\"/></a>"
      ]
    },
    {
      "cell_type": "markdown",
      "metadata": {
        "id": "WnRrXSQ0TJZX"
      },
      "source": [
        "<!-- Projeto Desenvolvido na Data Science Academy - www.datascienceacademy.com.br -->\n",
        "# <font color='white'>Data Science Academy</font>\n",
        "## <font color='white'>Matemática e Estatística Aplicada Para Data Science, Machine Learning e IA</font>\n",
        "## <font color='white'>Lista de Exercícios 4</font>\n",
        "## <font color='white'>Espaço Vetorial com Linguagem Python</font>"
      ]
    },
    {
      "cell_type": "markdown",
      "metadata": {
        "id": "DjhuUqMJTJZY"
      },
      "source": [
        "**Resolva os exercícios abaixo usando Linguagem Python. Faça pesquisa complementar se necessário.**"
      ]
    },
    {
      "cell_type": "markdown",
      "source": [
        "# Exercícios4\n",
        "Operações com Vetoresem Análise de Dados e Data ScienceData Science Academy"
      ],
      "metadata": {
        "id": "fCgGwJ503Dlt"
      }
    },
    {
      "cell_type": "markdown",
      "source": [
        "## Exercício 1: Produto Escalar em Aplicação Prática\n",
        "Descrição: Dados  dois  vetores  que  representam  preferências  de  usuários  em  três categorias diferentes user1 = [4, 3, 2] e user2 = [1, 5, 4], calcule a similaridade entre esses usuários usando o produto escalar."
      ],
      "metadata": {
        "id": "64XvG8Jj3K6E"
      }
    },
    {
      "cell_type": "code",
      "source": [
        "import numpy as np\n",
        "\n",
        "# Definindo os vetores dos usuários\n",
        "user1 = np.array([4, 3, 2])\n",
        "user2 = np.array([1, 5, 4])\n",
        "\n",
        "# Calculando a magnitude dos vetores\n",
        "norma_user1 = np.linalg.norm(user1)\n",
        "norma_user2 = np.linalg.norm(user2)\n",
        "\n",
        "# Normalizando os vetores\n",
        "user1_normalizado = user1 / norma_user1\n",
        "user2_normalizado = user2 / norma_user2\n",
        "\n",
        "# Calculando a similaridade de cosseno usando os vetores normalizados\n",
        "similaridade = np.dot(user1_normalizado, user2_normalizado)\n",
        "\n",
        "print(\"Norma de user1:\", norma_user1)\n",
        "print(\"Norma de user2:\", norma_user2)\n",
        "print(\"Vetor user1 normalizado:\", user1_normalizado)\n",
        "print(\"Vetor user2 normalizado:\", user2_normalizado)\n",
        "print(\"Similaridade de Cosseno:\", similaridade)\n"
      ],
      "metadata": {
        "colab": {
          "base_uri": "https://localhost:8080/"
        },
        "id": "jHdLQQw9Zc07",
        "outputId": "6790c4ab-5a3d-4521-c47a-db9e83df0273"
      },
      "execution_count": 2,
      "outputs": [
        {
          "output_type": "stream",
          "name": "stdout",
          "text": [
            "Norma de user1: 5.385164807134504\n",
            "Norma de user2: 6.48074069840786\n",
            "Vetor user1 normalizado: [0.74278135 0.55708601 0.37139068]\n",
            "Vetor user2 normalizado: [0.15430335 0.77151675 0.6172134 ]\n",
            "Similaridade de Cosseno: 0.7736421443326913\n"
          ]
        }
      ]
    },
    {
      "cell_type": "code",
      "source": [
        "import numpy as np\n",
        "import math\n",
        "\n",
        "# Definindo os vetores dos usuários\n",
        "user1 = np.array([4, 3, 2])\n",
        "user2 = np.array([1, 5, 4])\n",
        "\n",
        "# Passo 1: Calculando o produto escalar\n",
        "# \\mathbf{u} \\cdot \\mathbf{v} = 4 \\cdot 1 + 3 \\cdot 5 + 2 \\cdot 4 = 27\n",
        "escalar = np.dot(user1, user2)\n",
        "\n",
        "# Passo 2: Calculando a magnitude dos vetores\n",
        "# \\| \\mathbf{u} \\| = \\sqrt{4^2 + 3^2 + 2^2} = \\sqrt{29}\n",
        "norma_user1 = np.linalg.norm(user1)\n",
        "# \\| \\mathbf{v} \\| = \\sqrt{1^2 + 5^2 + 4^2} = \\sqrt{42}\n",
        "norma_user2 = np.linalg.norm(user2)\n",
        "\n",
        "# Passo 3: Calculando a similaridade de cosseno\n",
        "# \\text{similaridade} = \\frac{\\mathbf{u} \\cdot \\mathbf{v}}{\\| \\mathbf{u} \\| \\| \\mathbf{v} \\|} = \\frac{27}{\\sqrt{29} \\cdot \\sqrt{42}} \\approx 0.774\n",
        "similaridade = escalar / (norma_user1 * norma_user2)\n",
        "\n",
        "print(\"Produto Escalar:\", escalar)\n",
        "print(\"Norma de user1:\", norma_user1)\n",
        "print(\"Norma de user2:\", norma_user2)\n",
        "print(\"Similaridade de Cosseno:\", similaridade)"
      ],
      "metadata": {
        "id": "p1rxpV8N6SXI",
        "colab": {
          "base_uri": "https://localhost:8080/"
        },
        "outputId": "ef07ce00-ece0-4f3a-81c4-8456bee35a6a"
      },
      "execution_count": 3,
      "outputs": [
        {
          "output_type": "stream",
          "name": "stdout",
          "text": [
            "Produto Escalar: 27\n",
            "Norma de user1: 5.385164807134504\n",
            "Norma de user2: 6.48074069840786\n",
            "Similaridade de Cosseno: 0.7736421443326913\n"
          ]
        }
      ]
    },
    {
      "cell_type": "code",
      "source": [
        "user1 = [4, 3, 2]\n",
        "user2 = [1, 5, 4]"
      ],
      "metadata": {
        "id": "gRj8ZHJe3PI8"
      },
      "execution_count": 4,
      "outputs": []
    },
    {
      "cell_type": "code",
      "source": [
        "escalar = np.dot(user1,user2)\n",
        "escalar"
      ],
      "metadata": {
        "colab": {
          "base_uri": "https://localhost:8080/"
        },
        "id": "Pq6hYaht7I14",
        "outputId": "8c36e0a2-ede7-4359-c64f-4611880fda48"
      },
      "execution_count": 5,
      "outputs": [
        {
          "output_type": "execute_result",
          "data": {
            "text/plain": [
              "27"
            ]
          },
          "metadata": {},
          "execution_count": 5
        }
      ]
    },
    {
      "cell_type": "code",
      "source": [
        "norma_u1 = math.sqrt(sum(x**2 for x in user1))\n",
        "norma_u2 = math.sqrt(sum(x**2 for x in user2))\n",
        "print(norma_u1,norma_u2)"
      ],
      "metadata": {
        "colab": {
          "base_uri": "https://localhost:8080/"
        },
        "id": "iVGwqytg7MDl",
        "outputId": "d1161ac7-1148-4ead-f23f-972af5cb9a57"
      },
      "execution_count": 6,
      "outputs": [
        {
          "output_type": "stream",
          "name": "stdout",
          "text": [
            "5.385164807134504 6.48074069840786\n"
          ]
        }
      ]
    },
    {
      "cell_type": "code",
      "source": [
        "similaridade = escalar / (norma_u1 * norma_u2)\n",
        "similaridade"
      ],
      "metadata": {
        "colab": {
          "base_uri": "https://localhost:8080/"
        },
        "id": "J5CDBdMn7Ndp",
        "outputId": "0fbed040-c6a4-4a1c-d555-fca733f20fbb"
      },
      "execution_count": 7,
      "outputs": [
        {
          "output_type": "execute_result",
          "data": {
            "text/plain": [
              "0.7736421443326913"
            ]
          },
          "metadata": {},
          "execution_count": 7
        }
      ]
    },
    {
      "cell_type": "markdown",
      "source": [
        "## Exercício 2: Multiplicação de Escalar por Vetor em Dados Reais\n",
        "Descrição: Dada uma série de preços de ações prices= [120, 125, 130, 128, 135], ajuste os preços em 15% e calcule o novo preço das ações."
      ],
      "metadata": {
        "id": "cnBs8kbU3PcB"
      }
    },
    {
      "cell_type": "code",
      "source": [
        "prices = [120, 125, 130, 128, 135]\n",
        "new_prices = [prices * 0.15 for prices in prices]\n",
        "new_prices"
      ],
      "metadata": {
        "colab": {
          "base_uri": "https://localhost:8080/"
        },
        "id": "t9tYfrZA3WM1",
        "outputId": "373e0dba-352a-4a3a-c80f-8e0707b68757"
      },
      "execution_count": 8,
      "outputs": [
        {
          "output_type": "execute_result",
          "data": {
            "text/plain": [
              "[18.0, 18.75, 19.5, 19.2, 20.25]"
            ]
          },
          "metadata": {},
          "execution_count": 8
        }
      ]
    },
    {
      "cell_type": "markdown",
      "source": [
        "## Exercício 3: Otimização de Produto Escalar\n",
        "Descrição:\n",
        "Encontre o vetor unitário que maximiza o produto escalar com o vetor v = [3, 4, 5]. Use técnicas de otimização para encontrar a solução."
      ],
      "metadata": {
        "id": "tnUFaHtG3WjA"
      }
    },
    {
      "cell_type": "markdown",
      "source": [
        "A Otimização de Produto Escalar é um conceito utilizado em matemática e otimização, especificamente na área de álgebra linear e programação matemática. Envolve encontrar valores para variáveis que maximizem ou minimizem o produto escalar entre dois vetores.\n",
        "\n",
        "Otimização de Produto Escalar\n",
        "Na otimização de produto escalar, o objetivo é ajustar as variáveis de um vetor para maximizar ou minimizar o produto escalar com outro vetor dado. Essa otimização pode ser sujeita a várias restrições, como limites nos valores das variáveis ou outras condições específicas.\n",
        "\n",
        "Métodos de Solução\n",
        "Para resolver problemas de otimização de produto escalar, podem ser usados vários métodos, incluindo:\n",
        "\n",
        "Programação Linear: Se o problema for linear (como o exemplo acima), pode ser resolvido usando métodos de programação linear como o Simplex ou algoritmos de pontos interiores.\n",
        "\n",
        "Métodos de Gradiente: Para problemas não lineares, métodos baseados em gradiente, como gradiente descendente, podem ser usados.\n",
        "\n",
        "Programação Quadrática: Se o problema envolve termos quadráticos, a programação quadrática pode ser apropriada.\n",
        "\n",
        "Conclusão\n",
        "A Otimização de Produto Escalar é uma ferramenta poderosa em matemática aplicada e ciência da computação, usada para resolver problemas de maximização e minimização em várias disciplinas. A chave para aplicá-la efetivamente está na formulação adequada do problema e na escolha do método de solução apropriado."
      ],
      "metadata": {
        "id": "gou6z2_A_DnZ"
      }
    },
    {
      "cell_type": "code",
      "source": [
        "v = [3, 4, 5]\n",
        "norma = np.linalg.norm(v) #magnitude\n",
        "normalizar = v / norma\n",
        "escalar = np.dot(v, normalizar)\n",
        "escalar"
      ],
      "metadata": {
        "id": "6yGEe1im3bvo",
        "colab": {
          "base_uri": "https://localhost:8080/"
        },
        "outputId": "7116fab6-e9d5-49dd-b9dd-4b001232d5ab"
      },
      "execution_count": 9,
      "outputs": [
        {
          "output_type": "execute_result",
          "data": {
            "text/plain": [
              "7.0710678118654755"
            ]
          },
          "metadata": {},
          "execution_count": 9
        }
      ]
    },
    {
      "cell_type": "markdown",
      "source": [
        "## Exercício 4: Produto Vetorial e Direção Normal\n",
        "Descrição:  \n",
        "Dados  três  pontos  no  espaço  3D  A  =  [1,  2,  3],  B  =  [4,  5,  6],  e  C  =  [7,  8,  9], encontre um vetor normal ao plano definido por esses três pontos."
      ],
      "metadata": {
        "id": "0WbyWcWb3cA0"
      }
    },
    {
      "cell_type": "code",
      "source": [
        "A  =  np.array([1,  2,  3])\n",
        "B  =  np.array([4,  5,  6])\n",
        "C  =  np.array([7,  8,  9])\n",
        "\n",
        "ab = A - B\n",
        "ac = A - C\n",
        "\n",
        "n = np.cross(ab,ac)\n",
        "n\n"
      ],
      "metadata": {
        "id": "cCs8g5pE3iVA",
        "colab": {
          "base_uri": "https://localhost:8080/"
        },
        "outputId": "b81d26fa-ee0c-4ed5-fe21-88619b5580ff"
      },
      "execution_count": 10,
      "outputs": [
        {
          "output_type": "execute_result",
          "data": {
            "text/plain": [
              "array([0, 0, 0])"
            ]
          },
          "metadata": {},
          "execution_count": 10
        }
      ]
    },
    {
      "cell_type": "markdown",
      "source": [
        "## Exercício 5: Produto Vetorial em Análise de Dados\n",
        "Descrição:\n",
        "Em um conjunto de dados 3D com pontos p1 = [1, 2, 3], p2 = [4, 5, 6], e p3 = [7, 8, 9], encontre o vetor normal ao plano formado por esses três pontos e interprete seu significado em termos de orientação do plano."
      ],
      "metadata": {
        "id": "kq5hMFL83ik8"
      }
    },
    {
      "cell_type": "code",
      "source": [
        "A  =  np.array([1,  2,  3])\n",
        "B  =  np.array([4,  5,  6])\n",
        "C  =  np.array([7,  8,  9])\n",
        "ab = A - B\n",
        "ac = A - C\n",
        "n = np.cross(ab,ac)\n",
        "n"
      ],
      "metadata": {
        "colab": {
          "base_uri": "https://localhost:8080/"
        },
        "id": "Q9PLyZvhQHs_",
        "outputId": "725ca357-cf71-409c-f0f7-888bb3390e96"
      },
      "execution_count": 13,
      "outputs": [
        {
          "output_type": "execute_result",
          "data": {
            "text/plain": [
              "array([0, 0, 0])"
            ]
          },
          "metadata": {},
          "execution_count": 13
        }
      ]
    }
  ],
  "metadata": {
    "kernelspec": {
      "display_name": "Python 3 (ipykernel)",
      "language": "python",
      "name": "python3"
    },
    "language_info": {
      "codemirror_mode": {
        "name": "ipython",
        "version": 3
      },
      "file_extension": ".py",
      "mimetype": "text/x-python",
      "name": "python",
      "nbconvert_exporter": "python",
      "pygments_lexer": "ipython3",
      "version": "3.11.5"
    },
    "colab": {
      "provenance": [],
      "include_colab_link": true
    }
  },
  "nbformat": 4,
  "nbformat_minor": 0
}