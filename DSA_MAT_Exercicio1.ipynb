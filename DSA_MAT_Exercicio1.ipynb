{
  "cells": [
    {
      "cell_type": "markdown",
      "metadata": {
        "id": "view-in-github",
        "colab_type": "text"
      },
      "source": [
        "<a href=\"https://colab.research.google.com/github/tiago-luisi/dsa/blob/main/DSA_MAT_Exercicio1.ipynb\" target=\"_parent\"><img src=\"https://colab.research.google.com/assets/colab-badge.svg\" alt=\"Open In Colab\"/></a>"
      ]
    },
    {
      "cell_type": "markdown",
      "metadata": {
        "id": "WnRrXSQ0TJZX"
      },
      "source": [
        "<!-- Projeto Desenvolvido na Data Science Academy - www.datascienceacademy.com.br -->\n",
        "# <font color='white'>Data Science Academy</font>\n",
        "## <font color='white'>Matemática e Estatística Aplicada Para Data Science, Machine Learning e IA</font>\n",
        "## <font color='white'>Lista de Exercícios 1</font>\n",
        "## <font color='white'>Matemática Fundamental com Linguagem Python</font>"
      ]
    },
    {
      "cell_type": "markdown",
      "metadata": {
        "id": "6qdgc0RCTJZY"
      },
      "source": [
        "### Instalando e Carregando Pacotes"
      ]
    },
    {
      "cell_type": "code",
      "execution_count": null,
      "metadata": {
        "colab": {
          "base_uri": "https://localhost:8080/"
        },
        "id": "2xKQalU5TJZY",
        "outputId": "4047200a-cc2a-47c5-a7e3-f04b1859c8ef"
      },
      "outputs": [
        {
          "output_type": "stream",
          "name": "stdout",
          "text": [
            "\u001b[?25l     \u001b[90m━━━━━━━━━━━━━━━━━━━━━━━━━━━━━━━━━━━━━━━━\u001b[0m \u001b[32m0.0/1.6 MB\u001b[0m \u001b[31m?\u001b[0m eta \u001b[36m-:--:--\u001b[0m\r\u001b[2K     \u001b[91m╸\u001b[0m\u001b[90m━━━━━━━━━━━━━━━━━━━━━━━━━━━━━━━━━━━━━━━\u001b[0m \u001b[32m0.0/1.6 MB\u001b[0m \u001b[31m1.0 MB/s\u001b[0m eta \u001b[36m0:00:02\u001b[0m\r\u001b[2K     \u001b[91m━━━━━\u001b[0m\u001b[91m╸\u001b[0m\u001b[90m━━━━━━━━━━━━━━━━━━━━━━━━━━━━━━━━━━\u001b[0m \u001b[32m0.2/1.6 MB\u001b[0m \u001b[31m3.8 MB/s\u001b[0m eta \u001b[36m0:00:01\u001b[0m\r\u001b[2K     \u001b[91m━━━━━━━━━━━━━━━━━━\u001b[0m\u001b[91m╸\u001b[0m\u001b[90m━━━━━━━━━━━━━━━━━━━━━\u001b[0m \u001b[32m0.7/1.6 MB\u001b[0m \u001b[31m7.6 MB/s\u001b[0m eta \u001b[36m0:00:01\u001b[0m\r\u001b[2K     \u001b[91m━━━━━━━━━━━━━━━━━━━━━━━━━━━━━━━\u001b[0m\u001b[91m╸\u001b[0m\u001b[90m━━━━━━━━\u001b[0m \u001b[32m1.2/1.6 MB\u001b[0m \u001b[31m9.3 MB/s\u001b[0m eta \u001b[36m0:00:01\u001b[0m\r\u001b[2K     \u001b[91m━━━━━━━━━━━━━━━━━━━━━━━━━━━━━━━━━━━━━━━\u001b[0m\u001b[91m╸\u001b[0m \u001b[32m1.6/1.6 MB\u001b[0m \u001b[31m10.1 MB/s\u001b[0m eta \u001b[36m0:00:01\u001b[0m\r\u001b[2K     \u001b[90m━━━━━━━━━━━━━━━━━━━━━━━━━━━━━━━━━━━━━━━━\u001b[0m \u001b[32m1.6/1.6 MB\u001b[0m \u001b[31m8.5 MB/s\u001b[0m eta \u001b[36m0:00:00\u001b[0m\n",
            "\u001b[?25h"
          ]
        }
      ],
      "source": [
        "# Para atualizar um pacote, execute o comando abaixo no terminal ou prompt de comando:\n",
        "# pip install -U nome_pacote\n",
        "\n",
        "# Para instalar a versão exata de um pacote, execute o comando abaixo no terminal ou prompt de comando:\n",
        "# !pip install nome_pacote==versão_desejada\n",
        "\n",
        "# Depois de instalar ou atualizar o pacote, reinicie o jupyter notebook.\n",
        "\n",
        "# Instala o pacote watermark.\n",
        "# Esse pacote é usado para gravar as versões de outros pacotes usados neste jupyter notebook.\n",
        "!pip install -q -U watermark"
      ]
    },
    {
      "cell_type": "code",
      "execution_count": null,
      "metadata": {
        "colab": {
          "base_uri": "https://localhost:8080/"
        },
        "id": "bhiY3I0RTJZY",
        "outputId": "1c520be8-da4e-407b-b705-eac5d452057e"
      },
      "outputs": [
        {
          "output_type": "stream",
          "name": "stdout",
          "text": [
            "Author: Data Science Academy\n",
            "\n"
          ]
        }
      ],
      "source": [
        "# Versões dos pacotes usados neste jupyter notebook\n",
        "%reload_ext watermark\n",
        "%watermark -a \"Data Science Academy\" --iversions"
      ]
    },
    {
      "cell_type": "markdown",
      "metadata": {
        "id": "DjhuUqMJTJZY"
      },
      "source": [
        "**Resolva os exercícios abaixo usando Linguagem Python. Faça pesquisa complementar se necessário.**"
      ]
    },
    {
      "cell_type": "markdown",
      "metadata": {
        "id": "HfFjdkuZTJZY"
      },
      "source": [
        "### Exercício 1: Cálculo de Área de um Círculo\n",
        "\n",
        "Escreva um programa que calcula a área de um círculo. O usuário deve fornecer o raio e o programa deve retornar a área."
      ]
    },
    {
      "cell_type": "code",
      "execution_count": null,
      "metadata": {
        "colab": {
          "base_uri": "https://localhost:8080/"
        },
        "id": "-4Zyh60yTJZY",
        "outputId": "28e6fc99-d038-493b-a57c-fdcf25252437"
      },
      "outputs": [
        {
          "output_type": "stream",
          "name": "stdout",
          "text": [
            "Digite o valor de raio em centimetros45\n",
            "A area do círculo é centimentros quadrados 6277.5\n"
          ]
        }
      ],
      "source": [
        "import numpy as np\n",
        "raio = input('Digite o valor de raio em centimetros')\n",
        "#A = 3.1 * r**2\n",
        "#diametro equivale duas vezes o raio\n",
        "# o perímetro (circulo é circunferencia) é a soma de todos os lados de uma figura geométrica.\n",
        "# varivivel raio\n",
        "pi = 3.1\n",
        "raio = float(raio)\n",
        "raio = raio ** 2\n",
        "area = raio * pi\n",
        "print('A area do círculo é centimentros quadrados', round(area,4))"
      ]
    },
    {
      "cell_type": "markdown",
      "metadata": {
        "id": "8POt0ThVTJZZ"
      },
      "source": [
        "### Exercício 2: Conversão de Temperatura\n",
        "\n",
        "Crie uma função que converte a temperatura de Celsius para Fahrenheit e vice-versa. O usuário deve informar a temperatura e a escala de origem."
      ]
    },
    {
      "cell_type": "code",
      "execution_count": null,
      "metadata": {
        "id": "HG2EMaGrTJZZ"
      },
      "outputs": [],
      "source": [
        "#(0°C × 9/5) + 32 = 32°F\n",
        "#(10°F − 32) × 5/9 = -12.22°C\n",
        "\n",
        "def Temperatura(temp, escala):\n",
        "  if escala == 'Celsius':\n",
        "    firenheit = (temp * (9/5) + 32)\n",
        "    return firenheit\n",
        "  else:\n",
        "    celsius =  (temp - 32) * (5/9)\n",
        "    return celsius"
      ]
    },
    {
      "cell_type": "code",
      "source": [
        "temp = input('Informe a Temperatura')\n",
        "temp = float(temp)\n",
        "escala = input('Informe a escala de origem: Celsius ou fahrenheit')"
      ],
      "metadata": {
        "colab": {
          "base_uri": "https://localhost:8080/"
        },
        "id": "CrIEYGclAgdd",
        "outputId": "d202dd45-7df2-4596-e50e-eb29e6475e89"
      },
      "execution_count": null,
      "outputs": [
        {
          "name": "stdout",
          "output_type": "stream",
          "text": [
            "Informe a Temperatura45\n",
            "Informe a escala de origem: Celsius ou fahrenheitCelsius\n"
          ]
        }
      ]
    },
    {
      "cell_type": "code",
      "source": [
        "resul = Temperatura(temp, escala)\n",
        "print(round(resul,4))"
      ],
      "metadata": {
        "colab": {
          "base_uri": "https://localhost:8080/"
        },
        "id": "hvyEIkfsD1ci",
        "outputId": "b7a99443-e369-4f9b-9a59-899d1b40e072"
      },
      "execution_count": null,
      "outputs": [
        {
          "output_type": "stream",
          "name": "stdout",
          "text": [
            "113.0\n"
          ]
        }
      ]
    },
    {
      "cell_type": "markdown",
      "metadata": {
        "id": "NS8NQ-5LTJZZ"
      },
      "source": [
        "### Exercício 3: Resolver uma Equação Linear\n",
        "\n",
        "Faça um programa que resolve uma equação linear do tipo ax + b = 0. Os valores de a e b são fornecidos pelo usuário."
      ]
    },
    {
      "cell_type": "code",
      "execution_count": null,
      "metadata": {
        "id": "0_SHyT2_TJZZ",
        "colab": {
          "base_uri": "https://localhost:8080/"
        },
        "outputId": "1fbd60fc-326d-4b1e-92d6-25faa1f86c27"
      },
      "outputs": [
        {
          "name": "stdout",
          "output_type": "stream",
          "text": [
            "V_a54\n",
            "V_b2\n"
          ]
        }
      ],
      "source": [
        "a = input('V_a')\n",
        "a = float(a)\n",
        "b = input('V_b')\n",
        "b = float(b)"
      ]
    },
    {
      "cell_type": "code",
      "source": [
        "#ax + b = 0\n",
        "b = 0 - b\n",
        "print(b)\n",
        "x = b / a\n",
        "print(x)"
      ],
      "metadata": {
        "colab": {
          "base_uri": "https://localhost:8080/"
        },
        "id": "lX4dS_d_FkMw",
        "outputId": "6d04209f-3a36-421d-d5f9-dce027fc12f8"
      },
      "execution_count": null,
      "outputs": [
        {
          "output_type": "stream",
          "name": "stdout",
          "text": [
            "-2.0\n",
            "-0.037037037037037035\n"
          ]
        }
      ]
    },
    {
      "cell_type": "markdown",
      "metadata": {
        "id": "wMPq01bzTJZZ"
      },
      "source": [
        "### Exercício 4: Cálculo de Média Aritmética\n",
        "\n",
        "Escreva um programa que calcula a média aritmética de uma lista de números fornecida pelo usuário."
      ]
    },
    {
      "cell_type": "code",
      "execution_count": null,
      "metadata": {
        "id": "4AGbyNK7TJZZ",
        "colab": {
          "base_uri": "https://localhost:8080/"
        },
        "outputId": "c7889b50-ebfd-4e0c-a445-c5c7ff0ff46f"
      },
      "outputs": [
        {
          "name": "stdout",
          "output_type": "stream",
          "text": [
            "Valor 0145\n",
            "Valor 0284\n",
            "Valor 0318\n",
            "Valor 0499\n"
          ]
        },
        {
          "output_type": "execute_result",
          "data": {
            "text/plain": [
              "61.5"
            ]
          },
          "metadata": {},
          "execution_count": 4
        }
      ],
      "source": [
        "var1 = float(input('Valor 01'))\n",
        "var2 = float(input('Valor 02'))\n",
        "var3 = float(input('Valor 03'))\n",
        "var4 = float(input('Valor 04'))\n",
        "\n",
        "media = (var1+var2+var3+var4)/4\n",
        "media"
      ]
    },
    {
      "cell_type": "code",
      "source": [
        "def media(numeros):\n",
        "  return round(sum(numeros)/len(numeros),4)\n",
        "\n",
        "numeros = [float(n) for n in input(\"Digite uma lista de números separados por espaço: \").split()]\n",
        "print(\"Média aritmética: \", media(numeros))"
      ],
      "metadata": {
        "colab": {
          "base_uri": "https://localhost:8080/"
        },
        "id": "ISlF8XmvtEUq",
        "outputId": "503de252-e9db-4084-9fec-a8d8adbbbc4c"
      },
      "execution_count": null,
      "outputs": [
        {
          "output_type": "stream",
          "name": "stdout",
          "text": [
            "Digite uma lista de números separados por espaço: 10 10\n",
            "Média aritmética:  10.0\n"
          ]
        }
      ]
    },
    {
      "cell_type": "markdown",
      "metadata": {
        "id": "DiJ8MGRwTJZZ"
      },
      "source": [
        "### Exercício 5: Determinar as Raízes de uma Equação Quadrática\n",
        "\n",
        "Crie um programa que encontra as raízes de uma equação quadrática do tipo ax^2 + bx + c = 0. O programa deve lidar com todos os tipos de raízes (reais e complexas)."
      ]
    },
    {
      "cell_type": "code",
      "source": [
        "# Bhaskara\n",
        "# delta = b**2 - 4ac\n",
        "import cmath\n",
        "def quadraticas(a,b,c):\n",
        "  #discriminante\n",
        "  delta = cmath.sqrt((b**2) - (4*a*c))\n",
        "\n",
        "  #calcula raiz quadrada\n",
        "  raiz1 = (-b - delta / (2 * a))\n",
        "  raiz2 = (-b + delta / (2 * a))\n",
        "\n",
        "  return (raiz1, raiz2)\n"
      ],
      "metadata": {
        "id": "oMpmTs3fZbUx"
      },
      "execution_count": null,
      "outputs": []
    },
    {
      "cell_type": "code",
      "execution_count": null,
      "metadata": {
        "id": "mEWQYGF1TJZZ",
        "colab": {
          "base_uri": "https://localhost:8080/"
        },
        "outputId": "a5c21061-4935-4784-c8fe-7a6473dceb47"
      },
      "outputs": [
        {
          "name": "stdout",
          "output_type": "stream",
          "text": [
            "Valor de A Não pode ser o 045\n",
            "Valor b12\n",
            "Valor c75\n"
          ]
        }
      ],
      "source": [
        "#ax^2 + bx + c = 0\n",
        "a = float(input('Valor de A Não pode ser o 0'))\n",
        "if a != 0:\n",
        "  b = float(input('Valor b'))\n",
        "  c = float(input('Valor c'))"
      ]
    },
    {
      "cell_type": "code",
      "source": [
        "raizes = quadraticas(a,b,c)\n",
        "print(f'As raízes da equação são {raizes[0]} e {raizes[1]}')"
      ],
      "metadata": {
        "colab": {
          "base_uri": "https://localhost:8080/"
        },
        "id": "kZzlOc3kpI3D",
        "outputId": "731e0419-560a-4815-9859-cc7bb8ac02f2"
      },
      "execution_count": null,
      "outputs": [
        {
          "output_type": "stream",
          "name": "stdout",
          "text": [
            "As raízes da equação são (-12-1.2840906856172147j) e (-12+1.2840906856172147j)\n"
          ]
        }
      ]
    },
    {
      "cell_type": "markdown",
      "metadata": {
        "id": "zKqby9U2TJZZ"
      },
      "source": [
        "### Exercício 6: Calcular o Fatorial de um Número\n",
        "\n",
        "Escreva uma função que calcula o fatorial de um número inteiro fornecido pelo usuário."
      ]
    },
    {
      "cell_type": "code",
      "execution_count": null,
      "metadata": {
        "id": "6E1WFpSZTJZZ"
      },
      "outputs": [],
      "source": [
        "def fatorial(fator):\n",
        "  var = 1\n",
        "  for f in range(1,fator+1):\n",
        "    var *= f\n",
        "  return var"
      ]
    },
    {
      "cell_type": "code",
      "source": [
        "fator = int(input('digite o numero'))\n",
        "resul = fatorial(fator)\n",
        "print(resul)"
      ],
      "metadata": {
        "colab": {
          "base_uri": "https://localhost:8080/"
        },
        "id": "FfSc2qcetIE6",
        "outputId": "82e22920-b444-4735-b586-55bd8f787d41"
      },
      "execution_count": null,
      "outputs": [
        {
          "output_type": "stream",
          "name": "stdout",
          "text": [
            "digite o numero4\n",
            "24\n"
          ]
        }
      ]
    },
    {
      "cell_type": "markdown",
      "metadata": {
        "id": "WjvgyelOTJZZ"
      },
      "source": [
        "### Exercício 7: Sequência de Fibonacci\n",
        "\n",
        "Crie um programa que gera a sequência de Fibonacci até um determinado número n fornecido pelo usuário."
      ]
    },
    {
      "cell_type": "code",
      "source": [
        "sequence = [0,1]\n",
        "len(sequence)"
      ],
      "metadata": {
        "colab": {
          "base_uri": "https://localhost:8080/"
        },
        "id": "-pIe87YSxsbU",
        "outputId": "75a9353f-e00a-4119-d514-55375ce7d3af"
      },
      "execution_count": null,
      "outputs": [
        {
          "output_type": "execute_result",
          "data": {
            "text/plain": [
              "2"
            ]
          },
          "metadata": {},
          "execution_count": 18
        }
      ]
    },
    {
      "cell_type": "code",
      "execution_count": null,
      "metadata": {
        "id": "du_CQ9P-TJZZ",
        "colab": {
          "base_uri": "https://localhost:8080/"
        },
        "outputId": "727175a8-06d0-42fe-bc75-e7619704ad1a"
      },
      "outputs": [
        {
          "output_type": "stream",
          "name": "stdout",
          "text": [
            "valor maximo10\n",
            "[0, 1, 1, 2, 3, 5, 8, 13, 21, 34]\n"
          ]
        }
      ],
      "source": [
        "fib = int(input('valor maximo'))\n",
        "sequence = [0,1]\n",
        "while len(sequence) < fib:\n",
        "  resul = sequence[-1] + sequence[-2]\n",
        "  sequence.append(resul)\n",
        "print(sequence)"
      ]
    },
    {
      "cell_type": "markdown",
      "metadata": {
        "id": "Cj8f0aCfTJZZ"
      },
      "source": [
        "### Exercício 8: Cálculo de Juros Compostos\n",
        "\n",
        "Faça um programa que calcula o montante final de um investimento com juros compostos. O usuário deve fornecer o capital inicial, a taxa de juros anual, e o número de anos."
      ]
    },
    {
      "cell_type": "code",
      "source": [
        "def CalculaJuros(capinit, juros, anos):\n",
        "  meses = anos * 12\n",
        "  taxamensal = juros / 12 / 100\n",
        "  for i in range(meses):\n",
        "    capinit = capinit * (1 + taxamensal)\n",
        "  return capinit"
      ],
      "metadata": {
        "id": "qgIsj1FskhlO"
      },
      "execution_count": null,
      "outputs": []
    },
    {
      "cell_type": "code",
      "execution_count": null,
      "metadata": {
        "id": "aVV25WlTTJZZ",
        "colab": {
          "base_uri": "https://localhost:8080/"
        },
        "outputId": "42a6f610-94ec-4cc3-a00c-b69b857d7957"
      },
      "outputs": [
        {
          "output_type": "stream",
          "name": "stdout",
          "text": [
            "valor10000\n",
            "juros5\n",
            "anos6\n",
            "13490.177441587439\n"
          ]
        }
      ],
      "source": [
        "capinicial = float(input('valor'))\n",
        "juros = float(input('juros'))\n",
        "anos = int(input('anos'))\n",
        "\n",
        "mfinal = CalculaJuros(capinicial,juros,anos)\n",
        "print(mfinal)"
      ]
    },
    {
      "cell_type": "markdown",
      "metadata": {
        "id": "n25Sxj3fTJZZ"
      },
      "source": [
        "### Exercício 9: Conversão de Moedas\n",
        "\n",
        "Escreva um programa que converte uma quantidade de uma moeda (como dólar) para outra (como euro), considerando uma taxa de câmbio fornecida pelo usuário."
      ]
    },
    {
      "cell_type": "code",
      "source": [
        "def conv_moeda(valor,taxa):\n",
        "  return valor * taxa\n"
      ],
      "metadata": {
        "id": "jOVqWxaFw7aZ"
      },
      "execution_count": null,
      "outputs": []
    },
    {
      "cell_type": "code",
      "execution_count": null,
      "metadata": {
        "id": "50tXdx1PTJZZ",
        "colab": {
          "base_uri": "https://localhost:8080/"
        },
        "outputId": "1961ac4b-ae16-45de-f03f-45d613111c13"
      },
      "outputs": [
        {
          "output_type": "stream",
          "name": "stdout",
          "text": [
            "real120\n",
            "taxa5.4\n",
            "648.0\n"
          ]
        }
      ],
      "source": [
        "#dollar = float(input('dollar'))\n",
        "real = float(input('real'))\n",
        "taxa = float(input('taxa'))\n",
        "print(conv_moeda(real,taxa))"
      ]
    },
    {
      "cell_type": "markdown",
      "metadata": {
        "id": "LCDrCVqaTJZZ"
      },
      "source": [
        "### Exercício 10: Verificar se um Número é Primo\n",
        "\n",
        "Crie uma função que verifica se um número fornecido pelo usuário é primo ou não."
      ]
    },
    {
      "cell_type": "code",
      "execution_count": null,
      "metadata": {
        "id": "Y1FChulpTJZa",
        "colab": {
          "base_uri": "https://localhost:8080/"
        },
        "outputId": "aee64520-2d06-47e0-ca1c-5878d3cc54ec"
      },
      "outputs": [
        {
          "output_type": "stream",
          "name": "stdout",
          "text": [
            "Digite um Numero10\n",
            "False\n"
          ]
        }
      ],
      "source": [
        "def e_primo(num):\n",
        "  if num < 2:\n",
        "    return False\n",
        "  for i in range(2, int(num**0.5)+1):\n",
        "    if num % i == 0:\n",
        "      return False\n",
        "  return True\n",
        "\n",
        "numero = int(input('Digite um Numero'))\n",
        "print(e_primo(numero))\n"
      ]
    },
    {
      "cell_type": "markdown",
      "metadata": {
        "id": "8qW36T2bTJZa"
      },
      "source": [
        "# Fim"
      ]
    }
  ],
  "metadata": {
    "kernelspec": {
      "display_name": "Python 3 (ipykernel)",
      "language": "python",
      "name": "python3"
    },
    "language_info": {
      "codemirror_mode": {
        "name": "ipython",
        "version": 3
      },
      "file_extension": ".py",
      "mimetype": "text/x-python",
      "name": "python",
      "nbconvert_exporter": "python",
      "pygments_lexer": "ipython3",
      "version": "3.11.5"
    },
    "colab": {
      "provenance": [],
      "include_colab_link": true
    }
  },
  "nbformat": 4,
  "nbformat_minor": 0
}