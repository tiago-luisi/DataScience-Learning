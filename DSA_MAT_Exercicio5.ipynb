{
  "nbformat": 4,
  "nbformat_minor": 0,
  "metadata": {
    "colab": {
      "provenance": [],
      "authorship_tag": "ABX9TyNoi0noX1bCDN+SUPMoQAmA",
      "include_colab_link": true
    },
    "kernelspec": {
      "name": "python3",
      "display_name": "Python 3"
    },
    "language_info": {
      "name": "python"
    }
  },
  "cells": [
    {
      "cell_type": "markdown",
      "metadata": {
        "id": "view-in-github",
        "colab_type": "text"
      },
      "source": [
        "<a href=\"https://colab.research.google.com/github/tiago-luisi/DataScience-Learning/blob/main/DSA_MAT_Exercicio5.ipynb\" target=\"_parent\"><img src=\"https://colab.research.google.com/assets/colab-badge.svg\" alt=\"Open In Colab\"/></a>"
      ]
    },
    {
      "cell_type": "markdown",
      "source": [
        "<!-- Projeto Desenvolvido na Data Science Academy - www.datascienceacademy.com.br -->\n",
        "# <font color='white'>Data Science Academy</font>\n",
        "## <font color='white'>Matemática e Estatística Aplicada Para Data Science, Machine Learning e IA</font>\n",
        "## <font color='white'>Lista de Exercícios 5 </font>\n",
        "## <font color='white'>Espaço Vetorial com Linguagem Python</font>"
      ],
      "metadata": {
        "id": "97POtn5GyVUc"
      }
    },
    {
      "cell_type": "markdown",
      "source": [
        "# Resolva os 5 exercícios abaixo:"
      ],
      "metadata": {
        "id": "pseCdbOmyEnQ"
      }
    },
    {
      "cell_type": "markdown",
      "source": [
        "## Exercício 1: Cálculo de Distância Euclidiana\n",
        "Descrição: Escreva uma função em Python que receba dois vetores (listas de números) de mesma dimensão e retorne a distância euclidiana entre eles.Exercício"
      ],
      "metadata": {
        "id": "znqad7fhyuf6"
      }
    },
    {
      "cell_type": "code",
      "source": [],
      "metadata": {
        "id": "MMFefNrCyk5B"
      },
      "execution_count": null,
      "outputs": []
    },
    {
      "cell_type": "markdown",
      "source": [
        "## 2: Distância Euclidiana com Validação de Dados\n",
        "Descrição: Modifique a função do Exercício 1 para validar se os dois vetores têm o mesmo tamanho. Se não tiverem, a função deve retornar um erro.Exercício"
      ],
      "metadata": {
        "id": "6CStqRXdylMk"
      }
    },
    {
      "cell_type": "code",
      "source": [],
      "metadata": {
        "id": "RNIgz605ym5x"
      },
      "execution_count": null,
      "outputs": []
    },
    {
      "cell_type": "markdown",
      "source": [
        "## 3: Distância Euclidiana em N-Dimensões\n",
        "Descrição:  Generalize  a  função  do  Exercício  1  para  que  ela  possa  calcular  a  distância euclidiana entre dois vetores em um espaço de qualquer número de dimensões.Exercício"
      ],
      "metadata": {
        "id": "JuNRwHQhynRR"
      }
    },
    {
      "cell_type": "code",
      "source": [],
      "metadata": {
        "id": "Gn2YkyCTyrbH"
      },
      "execution_count": null,
      "outputs": []
    },
    {
      "cell_type": "markdown",
      "source": [
        "## 4: Comparando Distâncias\n",
        "Descrição:  Escreva  um  script  que  receba  três  vetores  de  mesma  dimensão.  Calcule  a distância  euclidiana  entre  o  primeiro  e  os  outros  dois  vetores.  Imprima  qual  dos  dois vetores está mais próximo do primeiro, baseado na distância euclidiana.Exercício"
      ],
      "metadata": {
        "id": "0BgMkFFWyrsF"
      }
    },
    {
      "cell_type": "code",
      "source": [],
      "metadata": {
        "id": "okwJQSeqy1pZ"
      },
      "execution_count": null,
      "outputs": []
    },
    {
      "cell_type": "markdown",
      "source": [
        "## 5: Aplicação em Data Science\n",
        "\n",
        "Descrição: Dada uma matriz de  dados (lista de listas, onde cada sublista é um vetor de características)  e  um  vetor  de  referência,  escreva  uma  função  que  calcule  a  distância euclidiana de cada vetor na matriz até o vetor de referência. A função deve retornar uma lista de distâncias."
      ],
      "metadata": {
        "id": "pr5PDvBay2SG"
      }
    },
    {
      "cell_type": "code",
      "source": [],
      "metadata": {
        "id": "QSmFqd96y8Dg"
      },
      "execution_count": null,
      "outputs": []
    }
  ]
}