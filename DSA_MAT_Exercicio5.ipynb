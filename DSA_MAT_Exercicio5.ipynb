{
  "nbformat": 4,
  "nbformat_minor": 0,
  "metadata": {
    "colab": {
      "provenance": [],
      "authorship_tag": "ABX9TyOC5T3fgIojmCUHqPwPQszv",
      "include_colab_link": true
    },
    "kernelspec": {
      "name": "python3",
      "display_name": "Python 3"
    },
    "language_info": {
      "name": "python"
    }
  },
  "cells": [
    {
      "cell_type": "markdown",
      "metadata": {
        "id": "view-in-github",
        "colab_type": "text"
      },
      "source": [
        "<a href=\"https://colab.research.google.com/github/tiago-luisi/Mathematics-Statistics-DS-AI/blob/main/DSA_MAT_Exercicio5.ipynb\" target=\"_parent\"><img src=\"https://colab.research.google.com/assets/colab-badge.svg\" alt=\"Open In Colab\"/></a>"
      ]
    },
    {
      "cell_type": "markdown",
      "source": [
        "<!-- Projeto Desenvolvido na Data Science Academy - www.datascienceacademy.com.br -->\n",
        "# <font color='white'>Data Science Academy</font>\n",
        "## <font color='white'>Matemática e Estatística Aplicada Para Data Science, Machine Learning e IA</font>\n",
        "## <font color='white'>Lista de Exercícios 5 </font>\n",
        "## <font color='white'>Espaço Vetorial com Linguagem Python</font>"
      ],
      "metadata": {
        "id": "97POtn5GyVUc"
      }
    },
    {
      "cell_type": "markdown",
      "source": [
        "# Resolva os 5 exercícios abaixo:"
      ],
      "metadata": {
        "id": "pseCdbOmyEnQ"
      }
    },
    {
      "cell_type": "markdown",
      "source": [
        "## Exercício 1: Cálculo de Distância Euclidiana\n",
        "Descrição: Escreva uma função em Python que receba dois vetores (listas de números) de mesma dimensão e retorne a distância euclidiana entre eles.Exercício"
      ],
      "metadata": {
        "id": "znqad7fhyuf6"
      }
    },
    {
      "cell_type": "code",
      "source": [
        "def distancia_euclidiana(v1, v2):\n",
        "  soma_dif = sum((a-b) ** 2 for a, b in zip(v1, v2))\n",
        "  return soma_dif**0.5"
      ],
      "metadata": {
        "id": "MMFefNrCyk5B"
      },
      "execution_count": 2,
      "outputs": []
    },
    {
      "cell_type": "code",
      "source": [
        "v1 = [11, 22, 4434]\n",
        "v2 = [43, 954, 165]\n",
        "distancia = distancia_euclidiana(v1, v2)\n",
        "round(distancia,2)"
      ],
      "metadata": {
        "colab": {
          "base_uri": "https://localhost:8080/"
        },
        "id": "bQUyuPoVITHQ",
        "outputId": "43161c17-78f5-4ef9-8a17-708e0d5f5d0f"
      },
      "execution_count": 7,
      "outputs": [
        {
          "output_type": "execute_result",
          "data": {
            "text/plain": [
              "4369.67"
            ]
          },
          "metadata": {},
          "execution_count": 7
        }
      ]
    },
    {
      "cell_type": "markdown",
      "source": [
        "## 2: Distância Euclidiana com Validação de Dados\n",
        "Descrição: Modifique a função do Exercício 1 para validar se os dois vetores têm o mesmo tamanho. Se não tiverem, a função deve retornar um erro.Exercício"
      ],
      "metadata": {
        "id": "6CStqRXdylMk"
      }
    },
    {
      "cell_type": "code",
      "source": [
        "def distancia_euclidiana(v1, v2):\n",
        "  if len(v1) != len(v2):\n",
        "    raise ValueError(\"Os vetores devem ter o mesmo tamanho.\")\n",
        "  soma_dif = sum((a-b) ** 2 for a, b in zip(v1, v2))\n",
        "  return soma_dif**0.5"
      ],
      "metadata": {
        "id": "lQyHmqt_JJN4"
      },
      "execution_count": 10,
      "outputs": []
    },
    {
      "cell_type": "code",
      "source": [
        "v1 = [11, 22, 4434]\n",
        "v2 = [43, 954, 165]\n",
        "try:\n",
        "  distancia = distancia_euclidiana(v1, v2)\n",
        "  print(round(distancia,2))\n",
        "except ValueError as e:\n",
        "  print(e)"
      ],
      "metadata": {
        "colab": {
          "base_uri": "https://localhost:8080/"
        },
        "id": "Dc-jE3iFJXlF",
        "outputId": "bd513141-2e02-42cd-e581-d422068ea6da"
      },
      "execution_count": 12,
      "outputs": [
        {
          "output_type": "stream",
          "name": "stdout",
          "text": [
            "4369.67\n"
          ]
        }
      ]
    },
    {
      "cell_type": "markdown",
      "source": [
        "## 3: Distância Euclidiana em N-Dimensões\n",
        "Descrição:  Generalize  a  função  do  Exercício  1  para  que  ela  possa  calcular  a  distância euclidiana entre dois vetores em um espaço de qualquer número de dimensões."
      ],
      "metadata": {
        "id": "JuNRwHQhynRR"
      }
    },
    {
      "cell_type": "code",
      "source": [
        "def distancia_euclidiana(v1, v2):\n",
        "  soma_dif = sum((a-b) ** 2 for a, b in zip(v1, v2))\n",
        "  return soma_dif**0.5"
      ],
      "metadata": {
        "id": "Gn2YkyCTyrbH"
      },
      "execution_count": null,
      "outputs": []
    },
    {
      "cell_type": "markdown",
      "source": [
        "## 4: Comparando Distâncias\n",
        "Descrição:  Escreva  um  script  que  receba  três  vetores  de  mesma  dimensão.  Calcule  a distância  euclidiana  entre  o  primeiro  e  os  outros  dois  vetores.  Imprima  qual  dos  dois vetores está mais próximo do primeiro, baseado na distância euclidiana."
      ],
      "metadata": {
        "id": "0BgMkFFWyrsF"
      }
    },
    {
      "cell_type": "code",
      "source": [
        "def distancia_euclidiana(v1, v2):\n",
        "  return sum((a-b) ** 2 for a, b in zip(v1, v2)) ** 0.5"
      ],
      "metadata": {
        "id": "okwJQSeqy1pZ"
      },
      "execution_count": 14,
      "outputs": []
    },
    {
      "cell_type": "code",
      "source": [
        "def comparar_vetores(v1, v2, v3):\n",
        "  dist1, dist2 = [distancia_euclidiana(v1, v2), distancia_euclidiana(v1, v3)]\n",
        "  if dist1 < dist2:\n",
        "    return print(\"O vetor 2 está mais próximo do vetor 1.\")\n",
        "  elif dist2 < dist1:\n",
        "    return print(\"O vetor 3 está mais próximo do vetor 1.\")\n",
        "  else:\n",
        "    return print(\"Os vetores 2 e 3 estão na mesma distância do vetor 1.\")"
      ],
      "metadata": {
        "id": "R3Z6q928Kuzm"
      },
      "execution_count": 19,
      "outputs": []
    },
    {
      "cell_type": "code",
      "source": [
        "#vetores\n",
        "v1 = [11, 22, 4434]\n",
        "v2 = [43, 954, 165]\n",
        "v3 = [11, 22, 4438]\n",
        "\n",
        "comparar_vetores(v1, v2, v3)"
      ],
      "metadata": {
        "colab": {
          "base_uri": "https://localhost:8080/"
        },
        "id": "erZSpRX8L8Va",
        "outputId": "5114bdce-2364-4948-f750-523dd7b1b178"
      },
      "execution_count": 22,
      "outputs": [
        {
          "output_type": "stream",
          "name": "stdout",
          "text": [
            "O vetor 3 está mais próximo do vetor 1.\n"
          ]
        }
      ]
    },
    {
      "cell_type": "markdown",
      "source": [
        "## 5: Aplicação em Data Science\n",
        "\n",
        "Descrição: Dada uma matriz de  dados (lista de listas, onde cada sublista é um vetor de características)  e  um  vetor  de  referência,  escreva  uma  função  que  calcule  a  distância euclidiana de cada vetor na matriz até o vetor de referência. A função deve retornar uma lista de distâncias."
      ],
      "metadata": {
        "id": "pr5PDvBay2SG"
      }
    },
    {
      "cell_type": "code",
      "source": [
        "def calcular_distancias(matriz, referencia):\n",
        "  distancias = []\n",
        "  for vetor in matriz:\n",
        "    distancias.append(distancia_euclidiana(vetor, referencia))\n",
        "  return distancias"
      ],
      "metadata": {
        "id": "QSmFqd96y8Dg"
      },
      "execution_count": 24,
      "outputs": []
    },
    {
      "cell_type": "code",
      "source": [
        "matriz = [[1, 2, 3], [4, 5, 6], [7, 8, 9]]\n",
        "referencia = [10, 11, 12]\n",
        "distancias = calcular_distancias(matriz, referencia)\n",
        "print(distancias)"
      ],
      "metadata": {
        "colab": {
          "base_uri": "https://localhost:8080/"
        },
        "id": "hKztyLQYNA42",
        "outputId": "8719ca3a-6517-4eec-e463-6172ce7c31f1"
      },
      "execution_count": 25,
      "outputs": [
        {
          "output_type": "stream",
          "name": "stdout",
          "text": [
            "[15.588457268119896, 10.392304845413264, 5.196152422706632]\n"
          ]
        }
      ]
    }
  ]
}