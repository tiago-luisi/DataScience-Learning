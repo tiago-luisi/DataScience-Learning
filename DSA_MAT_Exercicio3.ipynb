{
  "cells": [
    {
      "cell_type": "markdown",
      "metadata": {
        "id": "view-in-github",
        "colab_type": "text"
      },
      "source": [
        "<a href=\"https://colab.research.google.com/github/tiago-luisi/DataScience-Learning/blob/main/DSA_MAT_Exercicio3.ipynb\" target=\"_parent\"><img src=\"https://colab.research.google.com/assets/colab-badge.svg\" alt=\"Open In Colab\"/></a>"
      ]
    },
    {
      "cell_type": "markdown",
      "metadata": {
        "id": "WnRrXSQ0TJZX"
      },
      "source": [
        "<!-- Projeto Desenvolvido na Data Science Academy - www.datascienceacademy.com.br -->\n",
        "# <font color='white'>Data Science Academy</font>\n",
        "## <font color='white'>Matemática e Estatística Aplicada Para Data Science, Machine Learning e IA</font>\n",
        "## <font color='white'>Lista de Exercícios 3</font>\n",
        "## <font color='white'>Matemática Fundamental com Linguagem Python</font>"
      ]
    },
    {
      "cell_type": "markdown",
      "metadata": {
        "id": "6qdgc0RCTJZY"
      },
      "source": [
        "### Instalando e Carregando Pacotes"
      ]
    },
    {
      "cell_type": "code",
      "execution_count": null,
      "metadata": {
        "colab": {
          "base_uri": "https://localhost:8080/"
        },
        "id": "2xKQalU5TJZY",
        "outputId": "4047200a-cc2a-47c5-a7e3-f04b1859c8ef"
      },
      "outputs": [
        {
          "output_type": "stream",
          "name": "stdout",
          "text": [
            "\u001b[?25l     \u001b[90m━━━━━━━━━━━━━━━━━━━━━━━━━━━━━━━━━━━━━━━━\u001b[0m \u001b[32m0.0/1.6 MB\u001b[0m \u001b[31m?\u001b[0m eta \u001b[36m-:--:--\u001b[0m\r\u001b[2K     \u001b[91m╸\u001b[0m\u001b[90m━━━━━━━━━━━━━━━━━━━━━━━━━━━━━━━━━━━━━━━\u001b[0m \u001b[32m0.0/1.6 MB\u001b[0m \u001b[31m1.0 MB/s\u001b[0m eta \u001b[36m0:00:02\u001b[0m\r\u001b[2K     \u001b[91m━━━━━\u001b[0m\u001b[91m╸\u001b[0m\u001b[90m━━━━━━━━━━━━━━━━━━━━━━━━━━━━━━━━━━\u001b[0m \u001b[32m0.2/1.6 MB\u001b[0m \u001b[31m3.8 MB/s\u001b[0m eta \u001b[36m0:00:01\u001b[0m\r\u001b[2K     \u001b[91m━━━━━━━━━━━━━━━━━━\u001b[0m\u001b[91m╸\u001b[0m\u001b[90m━━━━━━━━━━━━━━━━━━━━━\u001b[0m \u001b[32m0.7/1.6 MB\u001b[0m \u001b[31m7.6 MB/s\u001b[0m eta \u001b[36m0:00:01\u001b[0m\r\u001b[2K     \u001b[91m━━━━━━━━━━━━━━━━━━━━━━━━━━━━━━━\u001b[0m\u001b[91m╸\u001b[0m\u001b[90m━━━━━━━━\u001b[0m \u001b[32m1.2/1.6 MB\u001b[0m \u001b[31m9.3 MB/s\u001b[0m eta \u001b[36m0:00:01\u001b[0m\r\u001b[2K     \u001b[91m━━━━━━━━━━━━━━━━━━━━━━━━━━━━━━━━━━━━━━━\u001b[0m\u001b[91m╸\u001b[0m \u001b[32m1.6/1.6 MB\u001b[0m \u001b[31m10.1 MB/s\u001b[0m eta \u001b[36m0:00:01\u001b[0m\r\u001b[2K     \u001b[90m━━━━━━━━━━━━━━━━━━━━━━━━━━━━━━━━━━━━━━━━\u001b[0m \u001b[32m1.6/1.6 MB\u001b[0m \u001b[31m8.5 MB/s\u001b[0m eta \u001b[36m0:00:00\u001b[0m\n",
            "\u001b[?25h"
          ]
        }
      ],
      "source": [
        "# Para atualizar um pacote, execute o comando abaixo no terminal ou prompt de comando:\n",
        "# pip install -U nome_pacote\n",
        "\n",
        "# Para instalar a versão exata de um pacote, execute o comando abaixo no terminal ou prompt de comando:\n",
        "# !pip install nome_pacote==versão_desejada\n",
        "\n",
        "# Depois de instalar ou atualizar o pacote, reinicie o jupyter notebook.\n",
        "\n",
        "# Instala o pacote watermark.\n",
        "# Esse pacote é usado para gravar as versões de outros pacotes usados neste jupyter notebook.\n",
        "#!pip install -q -U watermark"
      ]
    },
    {
      "cell_type": "code",
      "execution_count": null,
      "metadata": {
        "colab": {
          "base_uri": "https://localhost:8080/"
        },
        "id": "bhiY3I0RTJZY",
        "outputId": "1c520be8-da4e-407b-b705-eac5d452057e"
      },
      "outputs": [
        {
          "output_type": "stream",
          "name": "stdout",
          "text": [
            "Author: Data Science Academy\n",
            "\n"
          ]
        }
      ],
      "source": [
        "# # Versões dos pacotes usados neste jupyter notebook\n",
        "# %reload_ext watermark\n",
        "# %watermark -a \"Data Science Academy\" --iversions"
      ]
    },
    {
      "cell_type": "markdown",
      "metadata": {
        "id": "DjhuUqMJTJZY"
      },
      "source": [
        "**Resolva os exercícios abaixo usando Linguagem Python. Faça pesquisa complementar se necessário.**"
      ]
    },
    {
      "cell_type": "code",
      "source": [
        "import numpy as np"
      ],
      "metadata": {
        "id": "WaZa08GU7zeY"
      },
      "execution_count": 25,
      "outputs": []
    },
    {
      "cell_type": "markdown",
      "metadata": {
        "id": "HfFjdkuZTJZY"
      },
      "source": [
        "### Exercício 1: Soma de Vetores Descrição:  Escreva  uma  função  em  Python  que  some  dois  vetores.  Suponha  que  os vetores  têm  o  mesmo  tamanho.  Resolva  o  exercício  de  forma  diferente  do  que  foi mostrado nas aulas."
      ]
    },
    {
      "cell_type": "code",
      "source": [
        "def somavetor(v1,v2):\n",
        "  return v1 + v2\n"
      ],
      "metadata": {
        "id": "q34ZCMlG76yC"
      },
      "execution_count": 1,
      "outputs": []
    },
    {
      "cell_type": "code",
      "source": [
        "def somavetor1(v1,v2):\n",
        "  return [x + y for x,y in zip(v1,v2)] #list comprehension # zip built-in"
      ],
      "metadata": {
        "id": "Ls_NqRmVnHnl"
      },
      "execution_count": 17,
      "outputs": []
    },
    {
      "cell_type": "code",
      "source": [
        "def somavetor2(v1,v2):\n",
        "  vetor = []\n",
        "  for i in range(len(v1)):\n",
        "    vetor.append(v1[i]+v2[i])\n",
        "  return vetor"
      ],
      "metadata": {
        "id": "GpVmcz2Bn10z"
      },
      "execution_count": 18,
      "outputs": []
    },
    {
      "cell_type": "code",
      "execution_count": 27,
      "metadata": {
        "colab": {
          "base_uri": "https://localhost:8080/"
        },
        "id": "-4Zyh60yTJZY",
        "outputId": "9bb14389-6e03-4199-f5c4-100fd8559fd2"
      },
      "outputs": [
        {
          "output_type": "stream",
          "name": "stdout",
          "text": [
            "[7, 9, 11, 13, 15]\n"
          ]
        }
      ],
      "source": [
        "vetor1 = np.array([1, 2, 3, 4, 5])\n",
        "vetor2 = np.array([6, 7, 8, 9, 10])\n",
        "print(somavetor2(vetor1,vetor2))"
      ]
    },
    {
      "cell_type": "markdown",
      "metadata": {
        "id": "8POt0ThVTJZZ"
      },
      "source": [
        "### Exercício 2: Produto Escalar - Descrição:  Implemente  uma  função  que  calcule  o  produto  escalar  entre  dois  vetores. Resolva o exercício de forma diferente do que foi mostrado nas aulas."
      ]
    },
    {
      "cell_type": "code",
      "source": [
        "def dot(vetor1,vetor2):\n",
        "  return np.dot(vetor1,vetor2)\n",
        "def dotraiz(vetor1,vetor2):\n",
        "  return sum(vetor1 * vetor2 for vetor1,vetor2 in zip(vetor1,vetor2))"
      ],
      "metadata": {
        "id": "ODl6bpqo8pD-"
      },
      "execution_count": null,
      "outputs": []
    },
    {
      "cell_type": "code",
      "execution_count": null,
      "metadata": {
        "id": "HG2EMaGrTJZZ",
        "colab": {
          "base_uri": "https://localhost:8080/"
        },
        "outputId": "c7a12e1f-8657-4afd-9407-ebead9cbe638"
      },
      "outputs": [
        {
          "output_type": "stream",
          "name": "stdout",
          "text": [
            "130\n"
          ]
        }
      ],
      "source": [
        "print(dot(vetor1,vetor2))"
      ]
    },
    {
      "cell_type": "code",
      "source": [
        "print(dotraiz(vetor1,vetor2))"
      ],
      "metadata": {
        "colab": {
          "base_uri": "https://localhost:8080/"
        },
        "id": "lDVfAKVT9PXY",
        "outputId": "d860630b-ba48-4e2e-ee5d-0cf27bad3a17"
      },
      "execution_count": null,
      "outputs": [
        {
          "output_type": "stream",
          "name": "stdout",
          "text": [
            "130\n"
          ]
        }
      ]
    },
    {
      "cell_type": "markdown",
      "metadata": {
        "id": "NS8NQ-5LTJZZ"
      },
      "source": [
        "# Exercício 3: Norma de um Vetor\n",
        "\n",
        "\n",
        "Descrição: Escreva uma função que calcule a norma (ou comprimento) de um vetor."
      ]
    },
    {
      "cell_type": "code",
      "execution_count": null,
      "metadata": {
        "id": "0_SHyT2_TJZZ"
      },
      "outputs": [],
      "source": [
        "def normaVector(vetor):\n",
        "  v = np.array(vetor)\n",
        "  norma = np.sqrt(np.sum(v**2))\n",
        "  return norma"
      ]
    },
    {
      "cell_type": "code",
      "source": [
        "vetor1 = np.array([1, 2, 3, 4, 5])\n",
        "print(round(normaVector(vetor1),2))"
      ],
      "metadata": {
        "colab": {
          "base_uri": "https://localhost:8080/"
        },
        "id": "OfJDLlqk9ihB",
        "outputId": "31b2f62f-73b4-4f4d-fc69-2b0786a275c8"
      },
      "execution_count": null,
      "outputs": [
        {
          "output_type": "stream",
          "name": "stdout",
          "text": [
            "7.42\n"
          ]
        }
      ]
    },
    {
      "cell_type": "code",
      "source": [
        "norma = np.linalg.norm(vetor1)\n",
        "norma"
      ],
      "metadata": {
        "colab": {
          "base_uri": "https://localhost:8080/"
        },
        "id": "qm42X9oY_H8k",
        "outputId": "d306c085-d724-4307-fa62-5a24817f611f"
      },
      "execution_count": null,
      "outputs": [
        {
          "output_type": "execute_result",
          "data": {
            "text/plain": [
              "7.416198487095663"
            ]
          },
          "metadata": {},
          "execution_count": 26
        }
      ]
    },
    {
      "cell_type": "markdown",
      "metadata": {
        "id": "wMPq01bzTJZZ"
      },
      "source": [
        "\n",
        "\n",
        "```\n",
        "###Exercício 4: Ângulo entre Dois VetoresDescrição: Implemente uma função que calcule o ângulo (em graus) entre dois vetores."
      ]
    },
    {
      "cell_type": "code",
      "source": [
        "vetor1 = np.array([1,0])\n",
        "vetor2 = np.array([0,1])"
      ],
      "metadata": {
        "id": "KdH4hZp5tfbj"
      },
      "execution_count": 31,
      "outputs": []
    },
    {
      "cell_type": "code",
      "source": [
        "#θ = cos-1 [ (a · b) / (|a| |b|) ]\n",
        "import math\n",
        "escalar = np.dot(vetor1,vetor2)\n",
        "normav1 = math.sqrt(sum(x**2 for x in vetor1))\n",
        "normav2 = math.sqrt(sum(x**2 for x in vetor2))\n",
        "\n",
        "cos_theta = escalar / (normav1 * normav2)\n",
        "angulo = math.acos(cos_theta) * (180 / math.pi)\n",
        "angulo"
      ],
      "metadata": {
        "colab": {
          "base_uri": "https://localhost:8080/"
        },
        "id": "9YNidcWg7H1G",
        "outputId": "fbeb6388-ed2c-46f5-bb66-111d93c04a32"
      },
      "execution_count": 38,
      "outputs": [
        {
          "output_type": "execute_result",
          "data": {
            "text/plain": [
              "90.0"
            ]
          },
          "metadata": {},
          "execution_count": 38
        }
      ]
    },
    {
      "cell_type": "code",
      "source": [
        "normav2**2"
      ],
      "metadata": {
        "colab": {
          "base_uri": "https://localhost:8080/"
        },
        "id": "oP_n_KlQGg9H",
        "outputId": "32140a46-d73c-4937-d82d-6c1501dadeac"
      },
      "execution_count": 39,
      "outputs": [
        {
          "output_type": "execute_result",
          "data": {
            "text/plain": [
              "1.0"
            ]
          },
          "metadata": {},
          "execution_count": 39
        }
      ]
    },
    {
      "cell_type": "markdown",
      "metadata": {
        "id": "DiJ8MGRwTJZZ"
      },
      "source": [
        "### Exercício 5: Projeção de um Vetor sobre Outro\n",
        "Descrição: Escreva uma função que encontre a projeção de um vetor sobre outro vetor"
      ]
    },
    {
      "cell_type": "code",
      "source": [
        "vetor1 = np.array([3,4])\n",
        "vetor2 = np.array([1,0])"
      ],
      "metadata": {
        "id": "-QHAncUvwele"
      },
      "execution_count": 44,
      "outputs": []
    },
    {
      "cell_type": "code",
      "source": [
        "#esse recurso é utilizado no PCA (reducao de dimensionalidade)\n",
        "produto_escalar = sum(a*b for a,b in zip(vetor1,vetor2))\n",
        "normav2 = math.sqrt(sum(x**2 for x in vetor2))\n",
        "escala = produto_escalar / normav2\n",
        "projecao = [escala * b for b in vetor2]\n",
        "projecao"
      ],
      "metadata": {
        "colab": {
          "base_uri": "https://localhost:8080/"
        },
        "id": "RbBpBsZX7IIw",
        "outputId": "57da8c40-7df4-4798-a4be-88708397ad7c"
      },
      "execution_count": 46,
      "outputs": [
        {
          "output_type": "execute_result",
          "data": {
            "text/plain": [
              "[3.0, 0.0]"
            ]
          },
          "metadata": {},
          "execution_count": 46
        }
      ]
    }
  ],
  "metadata": {
    "kernelspec": {
      "display_name": "Python 3 (ipykernel)",
      "language": "python",
      "name": "python3"
    },
    "language_info": {
      "codemirror_mode": {
        "name": "ipython",
        "version": 3
      },
      "file_extension": ".py",
      "mimetype": "text/x-python",
      "name": "python",
      "nbconvert_exporter": "python",
      "pygments_lexer": "ipython3",
      "version": "3.11.5"
    },
    "colab": {
      "provenance": [],
      "include_colab_link": true
    }
  },
  "nbformat": 4,
  "nbformat_minor": 0
}